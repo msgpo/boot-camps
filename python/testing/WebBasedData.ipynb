{
 "metadata": {
  "name": "WebBasedData"
 },
 "nbformat": 3,
 "nbformat_minor": 0,
 "worksheets": [
  {
   "cells": [
    {
     "cell_type": "markdown",
     "metadata": {},
     "source": [
      "Sometimes you want to gather information from across the internet. So we can use the [urllib2](http://docs.python.org/2/library/urllib2.html) module to access such data. Perhaps you need to grab a CSV (comma separated variable) file of the [latest earthquake data](http://earthquake.usgs.gov/earthquakes/feed/v1.0/csv.php)..."
     ]
    },
    {
     "cell_type": "code",
     "collapsed": false,
     "input": [
      "import urllib2, csv\n",
      "\n",
      "quake_URL = \"http://earthquake.usgs.gov/earthquakes/feed/v1.0/summary/all_hour.csv\"\n",
      "\n",
      "quake_data = urllib2.urlopen(quake_URL)\n",
      "\n",
      "reader = csv.reader(quake_data)\n",
      "\n",
      "for row in reader:\n",
      "    print row"
     ],
     "language": "python",
     "metadata": {},
     "outputs": [
      {
       "output_type": "stream",
       "stream": "stdout",
       "text": [
        "['time', 'latitude', 'longitude', 'depth', 'mag', 'magType', 'nst', 'gap', 'dmin', 'rms', 'net', 'id', 'updated', 'place']\n",
        "['2013-07-12T13:26:20.000Z', '63.4997', '-151.1356', '1.9', '2.7', 'Ml', '36', '75.6', '0.10869615', '1.07', 'ak', 'ak10757521', '2013-07-12T13:36:04.182Z', '109km W of Cantwell, Alaska']\n",
        "['2013-07-12T13:21:02.100Z', '19.3693', '-155.0695', '6', '2.1', 'Ml', '', '158.4', '0.03593261', '0.29', 'hv', 'hv60525101', '2013-07-12T13:26:47.448Z', '15km S of Fern Acres, Hawaii']\n",
        "['2013-07-12T13:17:12.000Z', '61.4999', '-150.9307', '68.6', '1.5', 'Ml', '7', '111.6', '0.54976895', '0.35', 'ak', 'ak10757516', '2013-07-12T13:24:01.310Z', '52km W of Big Lake, Alaska']\n"
       ]
      }
     ],
     "prompt_number": 1
    },
    {
     "cell_type": "markdown",
     "metadata": {},
     "source": [
      "Or perhaps you want to pull some information off of a web page. We can gather the [latest power rankings](http://www.usatoday.com/sports/sagarin/nfl12.htm) for NFL teams..."
     ]
    },
    {
     "cell_type": "code",
     "collapsed": false,
     "input": [
      "import urllib2, re\n",
      "\n",
      "clubs = ['Buffalo','Miami','New England','New York Jets','Baltimore','Cincinnati','Cleveland',\n",
      "         'Pittsburgh','Houston','Indianapolis','Jacksonville','Tennessee','Denver','Kansas City',\n",
      "         'Oakland','San Diego','Dallas','New York Giants','Philadelphia','Washington','Chicago',\n",
      "         'Detroit','Green Bay','Minnesota','Atlanta','Carolina','New Orleans','Tampa Bay',\n",
      "         'Arizona','St. Louis','San Francisco','Seattle']\n",
      "\n",
      "rank_URL = \"http://www.usatoday.com/sports/sagarin/nfl12.htm\"\n",
      "\n",
      "rank_page = urllib2.urlopen(rank_URL)\n",
      "\n",
      "for line in rank_page:\n",
      "    for club in clubs:\n",
      "        if re.search(club,line):\n",
      "            clubs.remove(club)\n",
      "            club_info = line.split()\n",
      "            print club, club_info[-2]\n"
     ],
     "language": "python",
     "metadata": {},
     "outputs": [
      {
       "output_type": "stream",
       "stream": "stdout",
       "text": [
        "Seattle 30.61\n",
        "San Francisco 30.03\n",
        "Denver 29.35\n",
        "New England 28.75\n",
        "Baltimore 27.27\n",
        "Green Bay 26.86\n",
        "Atlanta 26.97\n",
        "New York Giants 25.92\n",
        "Chicago 25.77\n",
        "Houston 23.69\n",
        "Cincinnati 23.00\n",
        "Minnesota 22.28\n",
        "Washington 22.87\n",
        "New Orleans 22.09\n",
        "Carolina 20.92\n",
        "St. Louis 20.06\n",
        "Pittsburgh 20.56\n",
        "Dallas 20.59\n",
        "Tampa Bay 19.86\n",
        "San Diego 17.76\n",
        "Miami 16.62\n",
        "Detroit 17.32\n",
        "Indianapolis 15.57\n",
        "Arizona 15.87\n",
        "Cleveland 15.94\n",
        "Buffalo 13.59\n",
        "New York Jets 12.97\n",
        "Philadelphia 11.93\n",
        "Tennessee 10.53\n",
        "Oakland 10.92\n",
        "Jacksonville 6.87\n",
        "Kansas City 6.66\n"
       ]
      }
     ],
     "prompt_number": 2
    },
    {
     "cell_type": "markdown",
     "metadata": {},
     "source": [
      "Maybe we'd like to import the [current time](https://www.google.com/search?q=current+gmt) in JSON format..."
     ]
    },
    {
     "cell_type": "code",
     "collapsed": false,
     "input": [
      "import urllib2, json\n",
      "\n",
      "time_url = \"http://time.jsontest.com\"\n",
      "\n",
      "time_page = urllib2.urlopen(time_url)\n",
      "\n",
      "time_dict = json.load(time_page)\n",
      "\n",
      "print \"Current GMT time is %s\" % (time_dict['time'])"
     ],
     "language": "python",
     "metadata": {},
     "outputs": [
      {
       "output_type": "stream",
       "stream": "stdout",
       "text": [
        "Current GMT time is 02:00:54 PM\n"
       ]
      }
     ],
     "prompt_number": 6
    }
   ],
   "metadata": {}
  }
 ]
}